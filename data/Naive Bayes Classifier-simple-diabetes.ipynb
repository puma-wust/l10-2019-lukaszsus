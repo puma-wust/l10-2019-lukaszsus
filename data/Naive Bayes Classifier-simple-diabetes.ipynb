{
 "cells": [
  {
   "cell_type": "code",
   "execution_count": 12,
   "metadata": {},
   "outputs": [],
   "source": [
    "import pyro\n",
    "import pyro.optim as optim\n",
    "import torch\n",
    "import pandas as pd\n",
    "import numpy as np\n",
    "import matplotlib.pyplot as plt\n",
    "from tqdm import tqdm_notebook as tqdm\n",
    "from torch.distributions import constraints\n",
    "from sklearn.model_selection import StratifiedKFold\n",
    "from sklearn import metrics, preprocessing"
   ]
  },
  {
   "cell_type": "code",
   "execution_count": 13,
   "metadata": {},
   "outputs": [],
   "source": [
    "pyro.set_rng_seed(1)\n",
    "pyro.enable_validation(True)\n",
    "pyro.clear_param_store()"
   ]
  },
  {
   "cell_type": "code",
   "execution_count": 14,
   "metadata": {},
   "outputs": [],
   "source": [
    "# loading datasets\n",
    "df = pd.read_csv('diabetes.data', header=None)\n",
    "X = df.iloc[:,0:-1]\n",
    "y = df.iloc[:,-1].astype(int)"
   ]
  },
  {
   "cell_type": "code",
   "execution_count": 23,
   "metadata": {},
   "outputs": [],
   "source": [
    "def model(X):\n",
    "    # rejestrujemy zmienną do przestrzeni optymalizacji (store pyro)\n",
    "    mu_param = pyro.param(\"mu\", torch.zeros_like(naive_bayes.current_class_probs))\n",
    "    # ograniczamy wartości do nieujemnych\n",
    "    sigma_param = pyro.param(\"sigma\", torch.ones_like(naive_bayes.current_class_probs), constraint=constraints.positive)\n",
    "    params = pyro.distributions.Normal(loc=mu_param, scale=sigma_param).to_event(1)\n",
    "    with pyro.plate(\"map\", len(X)):\n",
    "        pyro.sample(\"probs\", params, obs=X)\n",
    "\n",
    "def guide(X):\n",
    "    # rejestrujemy zmienną do przestrzeni optymalizacji (store pyro)\n",
    "    mu_param = pyro.param(\"mu\", torch.zeros_like(naive_bayes.current_class_probs))\n",
    "    # ograniczamy wartości do nieujemnych\n",
    "    sigma_param = pyro.param(\"sigma\", torch.ones_like(naive_bayes.current_class_probs), constraint=constraints.positive)\n",
    "    probs_prior = pyro.distributions.Normal(loc=mu_param, scale=sigma_param).to_event(1)\n",
    "    return pyro.sample(\"probs\", probs_prior, infer={'is_auxiliary': True})\n",
    "\n",
    "def train(X):\n",
    "    pyro.clear_param_store()\n",
    "    num_iterations=20000\n",
    "    optim = pyro.optim.Adam({\"lr\": 0.01})\n",
    "    svi = pyro.infer.SVI(model, guide, optim, loss=pyro.infer.Trace_ELBO(), num_samples=len(X))\n",
    "    losses = list()\n",
    "    t=tqdm(range(num_iterations))\n",
    "    for j in t:\n",
    "        loss = svi.step(X)\n",
    "        losses.append(loss)\n",
    "        t.set_postfix(loss=loss)\n",
    "    return (svi, losses)"
   ]
  },
  {
   "cell_type": "code",
   "execution_count": 24,
   "metadata": {},
   "outputs": [],
   "source": [
    "class NaiveBayesClassifier:\n",
    "    def __init__(self, use_svi=True):\n",
    "        self.use_svi = use_svi\n",
    "    \n",
    "    def fit(self, X, y):\n",
    "        self.X = X\n",
    "        self.y = y\n",
    "        \n",
    "        self.available_y = np.unique(y)\n",
    "        self.num_features = X.shape[1]\n",
    "        self._count_y_prob()\n",
    "        self.params_for_probs = list()\n",
    "        \n",
    "        for target in self.available_y:\n",
    "            self.X_current_class = torch.from_numpy(X[y==target])\n",
    "            if (self.use_svi):\n",
    "                self.current_class_probs = torch.from_numpy(np.random.randn(self.num_features))\n",
    "                train(self.X_current_class)\n",
    "                mu = pyro.param(\"mu\")\n",
    "                sigma = pyro.param(\"sigma\")\n",
    "                sigma2 = sigma*sigma # pyro uses std instead of var\n",
    "            self.params_for_probs.append(torch.stack([mu, sigma2], dim=0))\n",
    "            \n",
    "        for i in range(len(self.params_for_probs)):\n",
    "            self.params_for_probs[i] = self.params_for_probs[i].detach().numpy()\n",
    "            \n",
    "    def _count_y_prob(self):\n",
    "        total_quantity = len(self.y)\n",
    "        self.p_y = [np.count_nonzero(self.y == i) / total_quantity for i in self.available_y]\n",
    "    \n",
    "    def predict(self, X):\n",
    "        predicted = list()\n",
    "        for i in range(len(X)):\n",
    "            predicted.append(self._predict_one_example(i, X[i, :]))\n",
    "        return np.asarray(predicted)\n",
    "\n",
    "    def _predict_one_example(self, i: int, x: np.ndarray):\n",
    "        certainity_for_ys = list()\n",
    "        for y in self.available_y:  # for every class\n",
    "            certainity_for_ys.append(self.p_y[y])\n",
    "            for i in range(len(x)):  # for every feature\n",
    "                certainity_for_ys[-1] *= self._p_xi_on_condition_y(i, y, x[i])\n",
    "        return self.available_y[certainity_for_ys.index(max(certainity_for_ys))]\n",
    "    \n",
    "    def _p_xi_on_condition_y(self, feature_index, y_index, x_i):\n",
    "#         print(y_index)\n",
    "#         print(feature_index)\n",
    "#         print(self.params_for_probs)\n",
    "        multiplier = 1 / np.sqrt(2 * np.pi * self.params_for_probs[y_index][1, feature_index])\n",
    "        exp = - (x_i - self.params_for_probs[y_index][0, feature_index]) ** 2 / (2 * self.params_for_probs[y_index][1, feature_index])\n",
    "        return multiplier * np.power(np.e, exp)"
   ]
  },
  {
   "cell_type": "code",
   "execution_count": 25,
   "metadata": {},
   "outputs": [],
   "source": [
    "naive_bayes = NaiveBayesClassifier()\n",
    "# naive_bayes.fit(X, y)"
   ]
  },
  {
   "cell_type": "code",
   "execution_count": 26,
   "metadata": {},
   "outputs": [],
   "source": [
    "def crossval_research(data, target):\n",
    "    splitter = StratifiedKFold(n_splits=7, shuffle=True)\n",
    "    split_set_generator = splitter.split(data, target)\n",
    "\n",
    "    # trainning and testing\n",
    "    y_pred = list()\n",
    "    y_true = list()\n",
    "\n",
    "    for train_indices, test_indices in split_set_generator:\n",
    "        X_train = data[train_indices]\n",
    "        Y_train = target[train_indices]\n",
    "        naive_bayes.fit(X_train, Y_train)\n",
    "        y_pred.extend(naive_bayes.predict(data[test_indices]))\n",
    "        y_true.extend(target[test_indices])\n",
    "\n",
    "    confusion = metrics.confusion_matrix(y_true, y_pred)\n",
    "    accuracy = metrics.accuracy_score(y_true, y_pred)\n",
    "    precision = metrics.precision_score(y_true, y_pred, average=None)\n",
    "    recall = metrics.recall_score(y_true, y_pred, average=None)\n",
    "    f1_score = metrics.f1_score(y_true, y_pred, average=None)\n",
    "\n",
    "    return {\"confusion\": confusion, \"accuracy\": accuracy, \"precision\": precision,\n",
    "            \"recall\": recall, \"f1_score\": f1_score}"
   ]
  },
  {
   "cell_type": "code",
   "execution_count": 27,
   "metadata": {},
   "outputs": [
    {
     "data": {
      "application/vnd.jupyter.widget-view+json": {
       "model_id": "9939b37e334746e5a25ca6aacfb6a370",
       "version_major": 2,
       "version_minor": 0
      },
      "text/plain": [
       "HBox(children=(IntProgress(value=0, max=20000), HTML(value='')))"
      ]
     },
     "metadata": {},
     "output_type": "display_data"
    },
    {
     "name": "stdout",
     "output_type": "stream",
     "text": [
      "\n"
     ]
    },
    {
     "data": {
      "application/vnd.jupyter.widget-view+json": {
       "model_id": "4f6059675fa249739e782bece029090a",
       "version_major": 2,
       "version_minor": 0
      },
      "text/plain": [
       "HBox(children=(IntProgress(value=0, max=20000), HTML(value='')))"
      ]
     },
     "metadata": {},
     "output_type": "display_data"
    },
    {
     "name": "stdout",
     "output_type": "stream",
     "text": [
      "\n"
     ]
    },
    {
     "data": {
      "application/vnd.jupyter.widget-view+json": {
       "model_id": "fb350163419b4c19a79f279aa930bb82",
       "version_major": 2,
       "version_minor": 0
      },
      "text/plain": [
       "HBox(children=(IntProgress(value=0, max=20000), HTML(value='')))"
      ]
     },
     "metadata": {},
     "output_type": "display_data"
    },
    {
     "name": "stdout",
     "output_type": "stream",
     "text": [
      "\n"
     ]
    },
    {
     "data": {
      "application/vnd.jupyter.widget-view+json": {
       "model_id": "a21b053fb0ae406387049baceb4b8e55",
       "version_major": 2,
       "version_minor": 0
      },
      "text/plain": [
       "HBox(children=(IntProgress(value=0, max=20000), HTML(value='')))"
      ]
     },
     "metadata": {},
     "output_type": "display_data"
    },
    {
     "name": "stdout",
     "output_type": "stream",
     "text": [
      "\n"
     ]
    },
    {
     "data": {
      "application/vnd.jupyter.widget-view+json": {
       "model_id": "8545e104e7f247078ed9f1cb9540aa5d",
       "version_major": 2,
       "version_minor": 0
      },
      "text/plain": [
       "HBox(children=(IntProgress(value=0, max=20000), HTML(value='')))"
      ]
     },
     "metadata": {},
     "output_type": "display_data"
    },
    {
     "name": "stdout",
     "output_type": "stream",
     "text": [
      "\n"
     ]
    },
    {
     "data": {
      "application/vnd.jupyter.widget-view+json": {
       "model_id": "fe1e6323a3bb484ea796d3e2d84d4e83",
       "version_major": 2,
       "version_minor": 0
      },
      "text/plain": [
       "HBox(children=(IntProgress(value=0, max=20000), HTML(value='')))"
      ]
     },
     "metadata": {},
     "output_type": "display_data"
    },
    {
     "name": "stdout",
     "output_type": "stream",
     "text": [
      "\n"
     ]
    },
    {
     "data": {
      "application/vnd.jupyter.widget-view+json": {
       "model_id": "5a172bba645c4cf49fd5dd25c86c43ad",
       "version_major": 2,
       "version_minor": 0
      },
      "text/plain": [
       "HBox(children=(IntProgress(value=0, max=20000), HTML(value='')))"
      ]
     },
     "metadata": {},
     "output_type": "display_data"
    },
    {
     "name": "stdout",
     "output_type": "stream",
     "text": [
      "\n"
     ]
    },
    {
     "data": {
      "application/vnd.jupyter.widget-view+json": {
       "model_id": "8e3062b144594902a4af85ae0d6391eb",
       "version_major": 2,
       "version_minor": 0
      },
      "text/plain": [
       "HBox(children=(IntProgress(value=0, max=20000), HTML(value='')))"
      ]
     },
     "metadata": {},
     "output_type": "display_data"
    },
    {
     "name": "stdout",
     "output_type": "stream",
     "text": [
      "\n"
     ]
    },
    {
     "data": {
      "application/vnd.jupyter.widget-view+json": {
       "model_id": "a602e00b06d64b47ab75d19897a68e0f",
       "version_major": 2,
       "version_minor": 0
      },
      "text/plain": [
       "HBox(children=(IntProgress(value=0, max=20000), HTML(value='')))"
      ]
     },
     "metadata": {},
     "output_type": "display_data"
    },
    {
     "name": "stdout",
     "output_type": "stream",
     "text": [
      "\n"
     ]
    },
    {
     "data": {
      "application/vnd.jupyter.widget-view+json": {
       "model_id": "4f709808c4f04e52a116ac1ac9495c12",
       "version_major": 2,
       "version_minor": 0
      },
      "text/plain": [
       "HBox(children=(IntProgress(value=0, max=20000), HTML(value='')))"
      ]
     },
     "metadata": {},
     "output_type": "display_data"
    },
    {
     "name": "stdout",
     "output_type": "stream",
     "text": [
      "\n"
     ]
    },
    {
     "data": {
      "application/vnd.jupyter.widget-view+json": {
       "model_id": "96c337e0018249db981cb9d2856b4090",
       "version_major": 2,
       "version_minor": 0
      },
      "text/plain": [
       "HBox(children=(IntProgress(value=0, max=20000), HTML(value='')))"
      ]
     },
     "metadata": {},
     "output_type": "display_data"
    },
    {
     "name": "stdout",
     "output_type": "stream",
     "text": [
      "\n"
     ]
    },
    {
     "data": {
      "application/vnd.jupyter.widget-view+json": {
       "model_id": "97154c52716c421aaa375f64c7bd4f69",
       "version_major": 2,
       "version_minor": 0
      },
      "text/plain": [
       "HBox(children=(IntProgress(value=0, max=20000), HTML(value='')))"
      ]
     },
     "metadata": {},
     "output_type": "display_data"
    },
    {
     "name": "stdout",
     "output_type": "stream",
     "text": [
      "\n"
     ]
    },
    {
     "data": {
      "application/vnd.jupyter.widget-view+json": {
       "model_id": "75e49e620a48429f89be5dce70a70f57",
       "version_major": 2,
       "version_minor": 0
      },
      "text/plain": [
       "HBox(children=(IntProgress(value=0, max=20000), HTML(value='')))"
      ]
     },
     "metadata": {},
     "output_type": "display_data"
    },
    {
     "name": "stdout",
     "output_type": "stream",
     "text": [
      "\n"
     ]
    },
    {
     "data": {
      "application/vnd.jupyter.widget-view+json": {
       "model_id": "9f06e367592548cf8a58b48c618dddf2",
       "version_major": 2,
       "version_minor": 0
      },
      "text/plain": [
       "HBox(children=(IntProgress(value=0, max=20000), HTML(value='')))"
      ]
     },
     "metadata": {},
     "output_type": "display_data"
    },
    {
     "name": "stdout",
     "output_type": "stream",
     "text": [
      "\n"
     ]
    }
   ],
   "source": [
    "class_metrics = crossval_research(X.values, y.values)"
   ]
  },
  {
   "cell_type": "code",
   "execution_count": 28,
   "metadata": {},
   "outputs": [
    {
     "name": "stdout",
     "output_type": "stream",
     "text": [
      "mu\n",
      "sigma\n",
      "tensor([ 4.7870, 58.0525, 70.5424, 21.0043, 45.8143, 35.0957,  0.5416, 37.3261],\n",
      "       dtype=torch.float64, requires_grad=True)\n",
      "tensor([  3.6696,  89.9338,  22.2441,  17.2172, 141.8772,   7.1605,   0.3651,\n",
      "         11.0625], dtype=torch.float64, grad_fn=<AddBackward0>)\n"
     ]
    }
   ],
   "source": [
    "param_store = pyro.get_param_store()\n",
    "for key in param_store.keys():\n",
    "    print(key)\n",
    "    \n",
    "print(pyro.param(\"mu\"))\n",
    "print(pyro.param(\"sigma\"))"
   ]
  },
  {
   "cell_type": "code",
   "execution_count": 29,
   "metadata": {},
   "outputs": [
    {
     "name": "stdout",
     "output_type": "stream",
     "text": [
      "{'confusion': array([[429,  71],\n",
      "       [136, 132]]), 'accuracy': 0.73046875, 'precision': array([0.75929204, 0.65024631]), 'recall': array([0.858     , 0.49253731]), 'f1_score': array([0.8056338 , 0.56050955])}\n"
     ]
    }
   ],
   "source": [
    "print(class_metrics)"
   ]
  }
 ],
 "metadata": {
  "kernelspec": {
   "display_name": "Python 3",
   "language": "python",
   "name": "python3"
  },
  "language_info": {
   "codemirror_mode": {
    "name": "ipython",
    "version": 3
   },
   "file_extension": ".py",
   "mimetype": "text/x-python",
   "name": "python",
   "nbconvert_exporter": "python",
   "pygments_lexer": "ipython3",
   "version": "3.6.7"
  }
 },
 "nbformat": 4,
 "nbformat_minor": 2
}
