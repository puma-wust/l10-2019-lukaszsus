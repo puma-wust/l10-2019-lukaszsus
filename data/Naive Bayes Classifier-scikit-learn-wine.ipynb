{
 "cells": [
  {
   "cell_type": "code",
   "execution_count": 1,
   "metadata": {},
   "outputs": [],
   "source": [
    "import pyro\n",
    "import pyro.optim as optim\n",
    "import torch\n",
    "import pandas as pd\n",
    "import numpy as np\n",
    "import matplotlib.pyplot as plt\n",
    "from tqdm import tqdm_notebook as tqdm\n",
    "from torch.distributions import constraints\n",
    "from sklearn.model_selection import StratifiedKFold\n",
    "from sklearn import metrics, preprocessing\n",
    "from sklearn.naive_bayes import GaussianNB"
   ]
  },
  {
   "cell_type": "code",
   "execution_count": 2,
   "metadata": {},
   "outputs": [],
   "source": [
    "# loading datasets\n",
    "df = pd.read_csv('wine.data', header=None)\n",
    "X = df.iloc[:,1:]\n",
    "y = df.iloc[:,0].astype(int)\n",
    "y = y - 1"
   ]
  },
  {
   "cell_type": "code",
   "execution_count": 3,
   "metadata": {},
   "outputs": [],
   "source": [
    "naive_bayes = GaussianNB()"
   ]
  },
  {
   "cell_type": "code",
   "execution_count": 4,
   "metadata": {},
   "outputs": [],
   "source": [
    "def crossval_research(data, target):\n",
    "    splitter = StratifiedKFold(n_splits=7, shuffle=True)\n",
    "    split_set_generator = splitter.split(data, target)\n",
    "\n",
    "    # trainning and testing\n",
    "    y_pred = list()\n",
    "    y_true = list()\n",
    "\n",
    "    for train_indices, test_indices in split_set_generator:\n",
    "        X_train = data[train_indices]\n",
    "        Y_train = target[train_indices]\n",
    "        naive_bayes.fit(X_train, Y_train)\n",
    "        y_pred.extend(naive_bayes.predict(data[test_indices]))\n",
    "        y_true.extend(target[test_indices])\n",
    "\n",
    "    confusion = metrics.confusion_matrix(y_true, y_pred)\n",
    "    accuracy = metrics.accuracy_score(y_true, y_pred)\n",
    "    precision = metrics.precision_score(y_true, y_pred, average=None)\n",
    "    recall = metrics.recall_score(y_true, y_pred, average=None)\n",
    "    f1_score = metrics.f1_score(y_true, y_pred, average=None)\n",
    "\n",
    "    return {\"confusion\": confusion, \"accuracy\": accuracy, \"precision\": precision,\n",
    "            \"recall\": recall, \"f1_score\": f1_score}"
   ]
  },
  {
   "cell_type": "code",
   "execution_count": 5,
   "metadata": {},
   "outputs": [],
   "source": [
    "class_metrics = crossval_research(X.values, y.values)"
   ]
  },
  {
   "cell_type": "code",
   "execution_count": 6,
   "metadata": {},
   "outputs": [
    {
     "name": "stdout",
     "output_type": "stream",
     "text": [
      "{'confusion': array([[56,  3,  0],\n",
      "       [ 0, 69,  2],\n",
      "       [ 0,  0, 48]]), 'accuracy': 0.9719101123595506, 'precision': array([1.        , 0.95833333, 0.96      ]), 'recall': array([0.94915254, 0.97183099, 1.        ]), 'f1_score': array([0.97391304, 0.96503497, 0.97959184])}\n"
     ]
    }
   ],
   "source": [
    "print(class_metrics)"
   ]
  }
 ],
 "metadata": {
  "kernelspec": {
   "display_name": "Python 3",
   "language": "python",
   "name": "python3"
  },
  "language_info": {
   "codemirror_mode": {
    "name": "ipython",
    "version": 3
   },
   "file_extension": ".py",
   "mimetype": "text/x-python",
   "name": "python",
   "nbconvert_exporter": "python",
   "pygments_lexer": "ipython3",
   "version": "3.6.7"
  }
 },
 "nbformat": 4,
 "nbformat_minor": 2
}
